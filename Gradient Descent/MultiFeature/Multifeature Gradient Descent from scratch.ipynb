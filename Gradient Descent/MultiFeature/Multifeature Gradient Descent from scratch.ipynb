{
 "cells": [
  {
   "cell_type": "code",
   "execution_count": 7,
   "metadata": {},
   "outputs": [],
   "source": [
    "import numpy as np\n",
    "import pandas as pd\n",
    "import matplotlib.pyplot as plt\n",
    "from sklearn import datasets"
   ]
  },
  {
   "cell_type": "code",
   "execution_count": 8,
   "metadata": {},
   "outputs": [],
   "source": [
    "def cost(X, Y, m):\n",
    "    costJ = 0\n",
    "    N = len(X)\n",
    "    for i in range(N):\n",
    "        costJ += (1/N) * ((Y[i] - np.dot(m, X[i]))**2)\n",
    "    return costJ\n",
    "\n",
    "def predict(m, X):\n",
    "    return np.dot(m, X)\n",
    "\n",
    "def batch_gradient_descent(X, Y, learning_rate, n_iterations):\n",
    "    NFeatures = len(X[0])\n",
    "    X = pd.DataFrame(X)\n",
    "    X[NFeatures] = 1 #Added a bias feature\n",
    "    X = np.array(X)\n",
    "    NFeatures += 1 #increment number of features  \n",
    "    m = np.zeros(NFeatures)\n",
    "    NRows = len(X)\n",
    "    costJ = np.zeros(shape=(n_iterations))\n",
    "    for j in range(n_iterations):\n",
    "        m_slope = np.zeros(NFeatures)\n",
    "        for k in range(NFeatures):\n",
    "                for i in range(NRows):\n",
    "                    m_slope[k] += (-2/NRows) * (Y[i] - np.dot(m, X[i,:])) * X[i, k]\n",
    "                    \n",
    "        m -= learning_rate * m_slope\n",
    "        J = cost(X, Y, m)\n",
    "        costJ[j] = J\n",
    "        \n",
    "        \n",
    "    return m, costJ"
   ]
  },
  {
   "cell_type": "code",
   "execution_count": 9,
   "metadata": {},
   "outputs": [],
   "source": [
    "train_data = np.genfromtxt(\"train.csv\", delimiter=\",\")\n",
    "N = len(train_data[0])\n",
    "Y = train_data[:, N-1]\n",
    "X = train_data[:, 0:N-1]\n",
    "n_iterations = 30\n",
    "learning_rate = .1\n",
    "m, cost_history = batch_gradient_descent(X, Y, learning_rate, n_iterations)"
   ]
  },
  {
   "cell_type": "code",
   "execution_count": 12,
   "metadata": {},
   "outputs": [
    {
     "data": {
      "image/png": "[encoded data removed]",
      "text/plain": [
       "<Figure size 432x288 with 1 Axes>"
      ]
     },
     "metadata": {},
     "output_type": "display_data"
    },
    {
     "name": "stdout",
     "output_type": "stream",
     "text": [
      "Error = 24.062059938191158\n"
     ]
    }
   ],
   "source": [
    "# Plot variation of Cost with each iteration\n",
    "plt.plot(range(len(cost_history)), cost_history)\n",
    "plt.style.use(\"dark_background\")\n",
    "plt.grid()\n",
    "plt.xlabel(\"Number of Iterations\")\n",
    "plt.ylabel(\"Cost\")\n",
    "plt.title(\"Cost after each epoch\")\n",
    "plt.show()\n",
    "print(\"Error =\", cost_history[-1])"
   ]
  },
  {
   "cell_type": "code",
   "execution_count": 11,
   "metadata": {},
   "outputs": [],
   "source": [
    "test_data = np.genfromtxt(\"test.csv\", delimiter=\",\")\n",
    "N = len(test_data[0])\n",
    "df = pd.DataFrame(test_data)\n",
    "df[N] = 1\n",
    "test_data = np.array(df)\n",
    "pred = [predict(m, x) for x in test_data]\n",
    "np.savetxt('predictions.csv', pred, delimiter=',', fmt='%f')"
   ]
  }
 ],
 "metadata": {
  "kernelspec": {
   "display_name": "Python 3",
   "language": "python",
   "name": "python3"
  },
  "language_info": {
   "codemirror_mode": {
    "name": "ipython",
    "version": 3
   },
   "file_extension": ".py",
   "mimetype": "text/x-python",
   "name": "python",
   "nbconvert_exporter": "python",
   "pygments_lexer": "ipython3",
   "version": "3.8.5"
  }
 },
 "nbformat": 4,
 "nbformat_minor": 4
}
