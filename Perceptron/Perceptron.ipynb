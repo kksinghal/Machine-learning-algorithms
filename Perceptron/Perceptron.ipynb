{
 "cells": [
  {
   "cell_type": "code",
   "execution_count": 1,
   "metadata": {},
   "outputs": [],
   "source": [
    "import numpy as np\n",
    "import pandas as pd\n",
    "import matplotlib.pyplot as plt"
   ]
  },
  {
   "cell_type": "code",
   "execution_count": 2,
   "metadata": {},
   "outputs": [],
   "source": [
    "class Perceptron:\n",
    "    \"\"\" Perceptron Classifier\n",
    "    \n",
    "    Parameters\n",
    "    -----------\n",
    "    learning_rate : float\n",
    "        Learning rate for the update (>0)\n",
    "    \n",
    "    n_iterations: int \n",
    "        Max number of iteratons\n",
    "    \n",
    "    random_state: int\n",
    "        Random number generator seed for weight initialization\n",
    "    \n",
    "    Attributes\n",
    "    -----------\n",
    "    W_: 1d array\n",
    "        Weights of the classifier\n",
    "    \n",
    "    errors_: 1d array\n",
    "        Number of misclassified points after each epoch\n",
    "    \"\"\"\n",
    "    \n",
    "    def __init__(self, lr, n_iterations=1000, random_state=None):\n",
    "        self.learning_rate = lr\n",
    "        self.n_iterations = n_iterations\n",
    "        self.random_state = random_state\n",
    "        self.W_ = []\n",
    "        self.errors_ = []\n",
    "        \n",
    "    def fit(self, X, Y):\n",
    "        \"\"\" Trains the perceptron\n",
    "        Parameters\n",
    "        -----------\n",
    "        X: (m, n) dimensional numpy array,\n",
    "            where m is the number of training points\n",
    "            and n is the number of features\n",
    "        \n",
    "        Y: 1d array of size m\n",
    "            Prediction for each training example\n",
    "        \n",
    "        Returns\n",
    "        --------\n",
    "        None\n",
    "        \"\"\"\n",
    "        np.random.seed(self.random_state)\n",
    "        X = np.append(X, np.ones(X.shape[0]).reshape(X.shape[0],1), axis=1)\n",
    "        if(len(self.W_) == 0):\n",
    "            self.W_ = np.random.normal(loc=0, scale=1, size = X.shape[1])\n",
    "        for i in range(self.n_iterations):\n",
    "            error = 0\n",
    "            for j in range(X.shape[0]):\n",
    "                if(Y[j] * self.W_.dot(X[j]) < 0):\n",
    "                    pred = 1 if self.W_.dot(X[j]) > 0 else -1\n",
    "                    self.W_ += (Y[j]- pred )*(self.learning_rate * X[j])\n",
    "                    error+=1\n",
    "            self.errors_.append(error)\n",
    "            if(error == 0):\n",
    "                break\n",
    "                \n",
    "    def predict(self, X):\n",
    "        \"\"\" Predict the ouput class\n",
    "        \n",
    "        Parameters\n",
    "        -----------\n",
    "        X: (m,n) dimensional array,\n",
    "            where m is the number of samples to be predicted\n",
    "            and n is the number of features\n",
    "        Returns\n",
    "        --------\n",
    "        Y: 1d array of size m\n",
    "        \n",
    "        \"\"\"\n",
    "        if(X.shape[1] != len(self.W_)):\n",
    "            X = np.append(X, np.ones(X.shape[0]).reshape(X.shape[0],1), axis=1)\n",
    "        return np.where(X.dot(self.W_) > 0, 1, -1)\n",
    "    "
   ]
  },
  {
   "cell_type": "code",
   "execution_count": 3,
   "metadata": {},
   "outputs": [],
   "source": [
    "class Adaline:\n",
    "    \"\"\" Adaptive Linear Classifier\n",
    "    \n",
    "    Parameters\n",
    "    -----------\n",
    "    learning_rate : float\n",
    "        Learning rate for the update (>0)\n",
    "    \n",
    "    n_iterations: int \n",
    "        Max number of iteratons\n",
    "    \n",
    "    random_state: int\n",
    "        Random number generator seed for weight initialization\n",
    "    \n",
    "    Attributes\n",
    "    -----------\n",
    "    W_: 1d array\n",
    "        Weights of the classifier\n",
    "    \n",
    "    errors_: 1d array\n",
    "        Number of misclassified points after each epoch\n",
    "    \"\"\"\n",
    "    \n",
    "    def __init__(self, lr, n_iterations=1000, random_state=None):\n",
    "        self.learning_rate = lr\n",
    "        self.n_iterations = n_iterations\n",
    "        self.random_state = random_state\n",
    "        self.W_ = []\n",
    "        self.errors_ = []\n",
    "        \n",
    "    def fit(self, X, Y):\n",
    "        \"\"\" Trains the perceptron\n",
    "        Parameters\n",
    "        -----------\n",
    "        X: (m, n) dimensional numpy array,\n",
    "            where m is the number of training points\n",
    "            and n is the number of features\n",
    "        \n",
    "        Y: 1d array of size m\n",
    "            Prediction for each training example\n",
    "        \n",
    "        Returns\n",
    "        --------\n",
    "        None\n",
    "        \"\"\"\n",
    "        np.random.seed(self.random_state)\n",
    "        X = np.append(X, np.ones(X.shape[0]).reshape(X.shape[0],1), axis=1)\n",
    "\n",
    "        if(len(self.W_) == 0):\n",
    "            self.W_ = np.random.normal(loc=0, scale=1, size = X.shape[1])\n",
    "        for i in range(self.n_iterations):\n",
    "            self.W_ += self.learning_rate * (Y - self.W_.dot(X.T)).mean()\n",
    "            error = 1/2*((Y - self.W_.dot(X.T))**2).mean()\n",
    "            self.errors_.append(error)\n",
    "                \n",
    "    def predict(self, X):\n",
    "        \"\"\" Predict the ouput class\n",
    "        \n",
    "        Parameters\n",
    "        -----------\n",
    "        X: (m,n) dimensional array,\n",
    "            where m is the number of samples to be predicted\n",
    "            and n is the number of features\n",
    "        Returns\n",
    "        --------\n",
    "        Y: 1d array of size m\n",
    "        \n",
    "        \"\"\"\n",
    "        X = np.append(X, np.ones(X.shape[0]).reshape(X.shape[0],1), axis=1)\n",
    "        return np.where(X.dot(self.W_) > 0, 1, -1)\n",
    "    "
   ]
  },
  {
   "cell_type": "code",
   "execution_count": 4,
   "metadata": {},
   "outputs": [],
   "source": [
    "from sklearn import datasets\n",
    "df = datasets.load_iris()\n",
    "features = pd.DataFrame(df.data)\n",
    "target = pd.DataFrame(df.target)"
   ]
  },
  {
   "cell_type": "code",
   "execution_count": 5,
   "metadata": {},
   "outputs": [],
   "source": [
    "X = features[target[0] == 0]\n",
    "X = X.append(features[target[0] == 1])\n",
    "X.reset_index(inplace=True, drop=True)\n",
    "\n",
    "Y = np.vstack((target[target[0] == 0], target[target[0] == 1]))\n",
    "## Label for setosa is 1 and for versicolor is -1\n",
    "Y = np.where(Y == 0, -1, 1)\n",
    "X = X.loc[:, [0,2]]\n",
    "X.columns = range(len(X.columns))"
   ]
  },
  {
   "cell_type": "code",
   "execution_count": 12,
   "metadata": {},
   "outputs": [],
   "source": [
    "clfPerceptron = Perceptron(.01, 100, 1)\n",
    "clfAdaline = Adaline(.03, 10, 1)\n"
   ]
  },
  {
   "cell_type": "code",
   "execution_count": 13,
   "metadata": {},
   "outputs": [],
   "source": [
    "clfPerceptron.fit(X, Y)\n",
    "clfAdaline.fit(X, Y)"
   ]
  },
  {
   "cell_type": "code",
   "execution_count": 14,
   "metadata": {},
   "outputs": [
    {
     "data": {
      "image/png": "[encoded data removed]",
      "text/plain": [
       "<Figure size 432x288 with 1 Axes>"
      ]
     },
     "metadata": {},
     "output_type": "display_data"
    },
    {
     "data": {
      "image/png": "[encoded data removed]",
      "text/plain": [
       "<Figure size 432x288 with 1 Axes>"
      ]
     },
     "metadata": {},
     "output_type": "display_data"
    }
   ],
   "source": [
    "plt.plot(range(len(clfPerceptron.errors_)), clfPerceptron.errors_, label=\"Perceptron\")\n",
    "plt.style.use('dark_background')\n",
    "plt.xlabel(\"Epoch\")\n",
    "plt.ylabel(\"Error\")\n",
    "plt.legend()\n",
    "plt.show()\n",
    "\n",
    "plt.plot(range(len(clfAdaline.errors_)), clfAdaline.errors_, label=\"Adaline\")\n",
    "plt.style.use('dark_background')\n",
    "plt.xlabel(\"Epoch\")\n",
    "plt.ylabel(\"Error\")\n",
    "plt.legend()\n",
    "\n",
    "plt.show()"
   ]
  },
  {
   "cell_type": "code",
   "execution_count": 15,
   "metadata": {
    "scrolled": true
   },
   "outputs": [
    {
     "data": {
      "image/png": "[encoded data removed]",
      "text/plain": [
       "<Figure size 432x288 with 1 Axes>"
      ]
     },
     "metadata": {},
     "output_type": "display_data"
    }
   ],
   "source": [
    "colors = ['blue', 'red']\n",
    "markers = ['o' , '+']\n",
    "for i in range(len(X)):\n",
    "    color = colors[0] if Y[i]==-1 else colors[1]\n",
    "    marker = markers[0] if Y[i]==-1 else markers[1]\n",
    "    plt.scatter(X.loc[i,0], X.loc[i,1], c=color, marker=marker)\n",
    "plt.show()\n"
   ]
  },
  {
   "cell_type": "code",
   "execution_count": 16,
   "metadata": {},
   "outputs": [
    {
     "data": {
      "image/png": "[encoded data removed]",
      "text/plain": [
       "<Figure size 432x288 with 1 Axes>"
      ]
     },
     "metadata": {},
     "output_type": "display_data"
    },
    {
     "data": {
      "image/png": "[encoded data removed]",
      "text/plain": [
       "<Figure size 432x288 with 1 Axes>"
      ]
     },
     "metadata": {},
     "output_type": "display_data"
    }
   ],
   "source": [
    "x1_min, x1_max = X.loc[:,0].min(), X.loc[:,0].max()+1\n",
    "x2_min, x2_max = X.loc[:,1].min(), X.loc[:,1].max()+1\n",
    "xx1, xx2 = np.meshgrid(np.arange(x1_min, x1_max, 0.01), np.arange(x2_min, x2_max, 0.01)) \n",
    "\n",
    "Z = clfPerceptron.predict(np.array([xx1.ravel(), xx2.ravel()]).T)\n",
    "plt.contourf(xx1, xx2, Z.reshape(xx1.shape))\n",
    "\n",
    "colors = ['blue', 'red']\n",
    "markers = ['o' , '+']\n",
    "for i in range(len(X)):\n",
    "    color = colors[0] if Y[i]==-1 else colors[1]\n",
    "    marker = markers[0] if Y[i]==-1 else markers[1]\n",
    "    plt.scatter(X.loc[i,0], X.loc[i,1], c=color, marker=marker)\n",
    "plt.title(\"Perceptron Decision boundary\")\n",
    "plt.show()\n",
    "\n",
    "Z = clfAdaline.predict(np.array([xx1.ravel(), xx2.ravel()]).T)\n",
    "plt.contourf(xx1, xx2, Z.reshape(xx1.shape))\n",
    "\n",
    "colors = ['blue', 'red']\n",
    "markers = ['o' , '+']\n",
    "for i in range(len(X)):\n",
    "    color = colors[0] if Y[i]==-1 else colors[1]\n",
    "    marker = markers[0] if Y[i]==-1 else markers[1]\n",
    "    plt.scatter(X.loc[i,0], X.loc[i,1], c=color, marker=marker)\n",
    "plt.title(\"Adaline Decision boundary\")\n",
    "plt.show()"
   ]
  },
  {
   "cell_type": "code",
   "execution_count": null,
   "metadata": {},
   "outputs": [],
   "source": []
  }
 ],
 "metadata": {
  "kernelspec": {
   "display_name": "Python 3",
   "language": "python",
   "name": "python3"
  },
  "language_info": {
   "codemirror_mode": {
    "name": "ipython",
    "version": 3
   },
   "file_extension": ".py",
   "mimetype": "text/x-python",
   "name": "python",
   "nbconvert_exporter": "python",
   "pygments_lexer": "ipython3",
   "version": "3.8.5"
  }
 },
 "nbformat": 4,
 "nbformat_minor": 4
}
