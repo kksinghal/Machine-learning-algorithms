{
 "cells": [
  {
   "cell_type": "code",
   "execution_count": 1,
   "metadata": {},
   "outputs": [],
   "source": [
    "import numpy as np\n",
    "import pandas as pd\n",
    "from sklearn import datasets"
   ]
  },
  {
   "cell_type": "code",
   "execution_count": 24,
   "metadata": {},
   "outputs": [],
   "source": [
    "data = datasets.load_breast_cancer()"
   ]
  },
  {
   "cell_type": "code",
   "execution_count": 14,
   "metadata": {},
   "outputs": [],
   "source": [
    "from sklearn.model_selection import train_test_split\n",
    "from sklearn.preprocessing import StandardScaler\n",
    "\n",
    "#Feature Scaling\n",
    "scaler = StandardScaler()\n",
    "scaler.fit(data.data)\n",
    "\n",
    "#Split dataset training and testing set\n",
    "X_train, X_test, Y_train, Y_test = train_test_split(data.data, data.target, test_size=0.2, random_state=1)"
   ]
  },
  {
   "cell_type": "code",
   "execution_count": 15,
   "metadata": {},
   "outputs": [],
   "source": [
    "from sklearn.neighbors import KNeighborsClassifier\n",
    "from sklearn.model_selection import cross_val_score, KFold\n",
    "\n",
    "x_axis = []\n",
    "y_axis = []\n",
    "for k in range(1, 20):\n",
    "    clf = KNeighborsClassifier(n_neighbors=k)\n",
    "    x_axis.append(k) \n",
    "    score = cross_val_score(clf, X_train, Y_train, cv=KFold(shuffle=True, random_state=0))\n",
    "    y_axis.append(score.mean()) \n"
   ]
  },
  {
   "cell_type": "code",
   "execution_count": 6,
   "metadata": {},
   "outputs": [
    {
     "name": "stdout",
     "output_type": "stream",
     "text": [
      "Max accuracy: 0.9362637362637363 at k = 13\n"
     ]
    },
    {
     "data": {
      "image/png": "[encoded data removed]",
      "text/plain": [
       "<Figure size 432x288 with 1 Axes>"
      ]
     },
     "metadata": {},
     "output_type": "display_data"
    }
   ],
   "source": [
    "import matplotlib.pyplot as plt\n",
    "\n",
    "plt.plot(x_axis, y_axis)\n",
    "plt.style.use(\"dark_background\")\n",
    "k = x_axis[y_axis.index(max(y_axis))]\n",
    "print(\"Max accuracy:\", max(y_axis), \"at k =\", x_axis[y_axis.index(max(y_axis))])\n",
    "plt.show()"
   ]
  },
  {
   "cell_type": "code",
   "execution_count": 16,
   "metadata": {},
   "outputs": [
    {
     "name": "stdout",
     "output_type": "stream",
     "text": [
      "accuracy using sklearn: 0.9122807017543859\n"
     ]
    }
   ],
   "source": [
    "clf = KNeighborsClassifier(n_neighbors = k)\n",
    "clf.fit(X_train, Y_train)\n",
    "score = clf.score(X_test, Y_test)\n",
    "print(\"accuracy using sklearn:\", score)"
   ]
  },
  {
   "cell_type": "code",
   "execution_count": 17,
   "metadata": {},
   "outputs": [],
   "source": [
    "\"\"\"\n",
    "Neighbour Class\n",
    "----------------\n",
    "Stores label and distance from the point to be predicted\n",
    "\"\"\"\n",
    "class neighbour:\n",
    "    def __init__(self, label, distance):\n",
    "        self.label = label\n",
    "        self.distance = distance\n",
    "    \n",
    "    \"\"\"\n",
    "    Custom predicate\n",
    "    \"\"\"\n",
    "    def __lt__(self, nxt):\n",
    "        return self.distance >= nxt.distance"
   ]
  },
  {
   "cell_type": "code",
   "execution_count": 18,
   "metadata": {},
   "outputs": [],
   "source": [
    "from heapq import heappop, heappush, heappushpop, heapify\n",
    "from collections import Counter\n",
    "\"\"\"\n",
    "K-nearest neighbour classifier\n",
    "--------------------------------\n",
    "Attributes:\n",
    "n_neighbours: int \n",
    "    number of neighbours to be considered\n",
    "p: int\n",
    "    Minkowski parameter\n",
    "\"\"\"\n",
    "\n",
    "class KNN:\n",
    "    def __init__(self, p=2, n_neighbours=3):\n",
    "        self.p = p\n",
    "        self.n_neighbours = n_neighbours\n",
    "    \n",
    "    \"\"\"\n",
    "    fit function\n",
    "    --------------\n",
    "    Fit the training data\n",
    "    Parameters:\n",
    "    X: 2D array\n",
    "        Features of training data\n",
    "    Y: 1D array\n",
    "        Labels of training data\n",
    "    \n",
    "    Returns self\n",
    "    \"\"\"\n",
    "    def fit(self, X, Y):\n",
    "        self.X = X\n",
    "        self.Y = Y\n",
    "        return self\n",
    "    \n",
    "    \"\"\"\n",
    "    predict function\n",
    "    -----------------\n",
    "    Predict the label for given set of features\n",
    "    Parameters:\n",
    "    X: 2D array\n",
    "        Array of Features of testing data\n",
    "    \n",
    "    Returns: array\n",
    "        Predicted labels\n",
    "    \"\"\"\n",
    "    def predict(self, X):\n",
    "        X = np.array(X)\n",
    "        maxHeaps = []\n",
    "        for i in range(len(self.X)):\n",
    "            x = self.X[i]\n",
    "            d = np.sum((X-x)**self.p, axis=1) ** (1/self.p)\n",
    "            neighbourData = [neighbour(self.Y[i], d[j]) for j in range(len(X))]\n",
    "            for j in range(len(X)):\n",
    "                if(len(maxHeaps) <= j):\n",
    "                    maxHeaps.append([neighbourData[j]])\n",
    "                    heapify(maxHeaps[j])\n",
    "                    #print(maxHeaps[j])\n",
    "                elif len(maxHeaps[j])< self.n_neighbours:\n",
    "                    heapify(maxHeaps[j])\n",
    "                    heappush(maxHeaps[j], neighbourData[j])\n",
    "                else:\n",
    "                    heapify(maxHeaps[j])\n",
    "                    heappushpop(maxHeaps[j], neighbourData[j])\n",
    "        \n",
    "        predictions = []\n",
    "        for i in range(len(X)):\n",
    "            labels = []\n",
    "            heap = maxHeaps[i]\n",
    "            while(len(heap) != 0):\n",
    "                labels.append(heappop(heap).label)\n",
    "            predictions.append(Counter(labels).most_common(1)[0][0])\n",
    "        return predictions\n",
    "    \n",
    "    "
   ]
  },
  {
   "cell_type": "code",
   "execution_count": 19,
   "metadata": {},
   "outputs": [
    {
     "data": {
      "text/plain": [
       "<__main__.KNN at 0x7f4d799edac0>"
      ]
     },
     "execution_count": 19,
     "metadata": {},
     "output_type": "execute_result"
    }
   ],
   "source": [
    "clf = KNN(n_neighbours = k)\n",
    "clf.fit(X_train, Y_train)"
   ]
  },
  {
   "cell_type": "code",
   "execution_count": 20,
   "metadata": {},
   "outputs": [],
   "source": [
    "pred = clf.predict(X_test)"
   ]
  },
  {
   "cell_type": "code",
   "execution_count": 22,
   "metadata": {},
   "outputs": [
    {
     "name": "stdout",
     "output_type": "stream",
     "text": [
      "Accuracy: 0.9122807017543859\n"
     ]
    }
   ],
   "source": [
    "from sklearn.metrics import accuracy_score\n",
    "\n",
    "score = accuracy_score(Y_test, pred)\n",
    "print(\"Accuracy:\", score)"
   ]
  },
  {
   "cell_type": "code",
   "execution_count": null,
   "metadata": {},
   "outputs": [],
   "source": []
  }
 ],
 "metadata": {
  "kernelspec": {
   "display_name": "Python 3",
   "language": "python",
   "name": "python3"
  },
  "language_info": {
   "codemirror_mode": {
    "name": "ipython",
    "version": 3
   },
   "file_extension": ".py",
   "mimetype": "text/x-python",
   "name": "python",
   "nbconvert_exporter": "python",
   "pygments_lexer": "ipython3",
   "version": "3.8.5"
  }
 },
 "nbformat": 4,
 "nbformat_minor": 4
}
