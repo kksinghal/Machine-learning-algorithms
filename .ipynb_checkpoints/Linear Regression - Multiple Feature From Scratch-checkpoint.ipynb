{
 "cells": [
  {
   "cell_type": "code",
   "execution_count": 1,
   "metadata": {},
   "outputs": [],
   "source": [
    "import numpy as np\n",
    "from sklearn import model_selection\n",
    "import matplotlib.pyplot as plt\n",
    "from sklearn import datasets\n",
    "import pandas as pd"
   ]
  },
  {
   "cell_type": "code",
   "execution_count": 5,
   "metadata": {},
   "outputs": [
    {
     "name": "stdout",
     "output_type": "stream",
     "text": [
      "(331, 11)\n"
     ]
    }
   ],
   "source": [
    "# data\n",
    "data = pd.read_csv(\"train.csv\")\n",
    "Y_train = data[\"Y\"]\n",
    "data.drop(\"Y\", axis=1, inplace=True)\n",
    "data[\"Bias\"] = 1\n",
    "X_train = np.asmatrix(data)\n",
    "Y_train = np.asmatrix(Y_train).transpose()\n",
    "print(X_train.shape)\n"
   ]
  },
  {
   "cell_type": "code",
   "execution_count": 6,
   "metadata": {},
   "outputs": [],
   "source": [
    "data = pd.DataFrame()\n",
    "data = pd.read_csv(\"test.csv\")\n",
    "data[\"Bias\"] = 1\n",
    "X_test = np.asmatrix(data)"
   ]
  },
  {
   "cell_type": "code",
   "execution_count": 8,
   "metadata": {},
   "outputs": [],
   "source": [
    "def fit(X, Y):\n",
    "    # Y = mX , m = 1 + x1 + x2 + ...+ xn\n",
    "    m = np.linalg.inv(X.transpose() * X) * X.transpose() * Y\n",
    "    return m\n",
    "\n",
    "m = fit(X_train, Y_train)"
   ]
  },
  {
   "cell_type": "code",
   "execution_count": 59,
   "metadata": {},
   "outputs": [],
   "source": [
    "# Cost = Sum( (Y - Y_pred)^2 ) / N\n",
    "def cost(X, Y, m):\n",
    "    a = (Y - (m.transpose() * X.transpose() ))\n",
    "    return (a*a.transpose()).mean()\n",
    "cst = cost(X,Y, m)"
   ]
  },
  {
   "cell_type": "code",
   "execution_count": 37,
   "metadata": {},
   "outputs": [],
   "source": [
    "def predict(X, m):\n",
    "    return X * m"
   ]
  },
  {
   "cell_type": "code",
   "execution_count": 39,
   "metadata": {},
   "outputs": [
    {
     "data": {
      "text/plain": [
       "(331, 1)"
      ]
     },
     "execution_count": 39,
     "metadata": {},
     "output_type": "execute_result"
    }
   ],
   "source": [
    "Y_pred = predict(X_train, m)"
   ]
  },
  {
   "cell_type": "code",
   "execution_count": 61,
   "metadata": {},
   "outputs": [
    {
     "name": "stdout",
     "output_type": "stream",
     "text": [
      "Score on training data 56749.19920314919\n",
      "Score on testing data 6035.932194009227\n",
      "Cost is 1338588.0510288116\n"
     ]
    }
   ],
   "source": [
    "def score(X, Y):\n",
    "    N = X.shape[0]\n",
    "    Y = np.array(Y).reshape(N)\n",
    "    Y_pred = predict(X, m)\n",
    "    Y_pred.reshape(N)\n",
    "    score =  1 - (( ((Y_pred-Y)**2).sum() )/ ( ((Y - Y.mean())**2).sum() )) \n",
    "    return score\n",
    "\n",
    "print(\"Score on training data\", score(X_train, Y_train))\n",
    "print(\"Score on testing data\", score(X_test, Y_test))\n",
    "print(\"Cost is\", cst)"
   ]
  }
 ],
 "metadata": {
  "kernelspec": {
   "display_name": "Python 3",
   "language": "python",
   "name": "python3"
  },
  "language_info": {
   "codemirror_mode": {
    "name": "ipython",
    "version": 3
   },
   "file_extension": ".py",
   "mimetype": "text/x-python",
   "name": "python",
   "nbconvert_exporter": "python",
   "pygments_lexer": "ipython3",
   "version": "3.8.5"
  }
 },
 "nbformat": 4,
 "nbformat_minor": 4
}
